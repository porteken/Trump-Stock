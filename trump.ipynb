{
 "cells": [
  {
   "cell_type": "code",
   "execution_count": 148,
   "metadata": {},
   "outputs": [],
   "source": [
    "import nltk\n",
    "import numpy as np\n",
    "import pandas as pd\n",
    "import pickle\n",
    "import stocker\n",
    "import re\n",
    "import spacy\n",
    "import string\n",
    "import seaborn as sns\n",
    "import en_core_web_sm\n",
    "from spacy.tokens import DocBin\n",
    "from sklearn.metrics.pairwise import cosine_similarity\n",
    "from sklearn.feature_extraction.text import TfidfVectorizer\n",
    "import en_core_web_lg"
   ]
  },
  {
   "cell_type": "code",
   "execution_count": 149,
   "metadata": {},
   "outputs": [
    {
     "name": "stdout",
     "output_type": "stream",
     "text": [
      "(4939, 5)\n",
      "(3182, 5)\n",
      "   created_at                                               text  \\\n",
      "0  2019-01-01  Gas prices are low and expected to go down thi...   \n",
      "3  2019-01-01  Washington Examiner - “MAGA list: 205 ‘histori...   \n",
      "4  2019-01-01  One thing has now been proven. The Democrats d...   \n",
      "5  2019-01-01  “General” McChrystal got fired like a dog by O...   \n",
      "6  2019-01-01  “Kim Jong Un says North Korea will not make or...   \n",
      "\n",
      "   retweet_count  favorite_count  is_retweet  \n",
      "0          30080          201811       False  \n",
      "3          17196           77877       False  \n",
      "4          26840          119139       False  \n",
      "5          16907           69306       False  \n",
      "6          24747          116495       False  \n"
     ]
    }
   ],
   "source": [
    "train=pd.read_csv('train.csv')\n",
    "price=train.iloc[:,:1]\n",
    "train.drop(['price'],axis=1,inplace=True)\n",
    "train['created_at']=pd.to_datetime(train['created_at']).dt.date\n",
    "print(train.shape)\n",
    "train=train[(train['is_retweet']==False) & (train['favorite_count']>0)]\n",
    "print(train.shape)\n",
    "print(train.head())"
   ]
  },
  {
   "cell_type": "code",
   "execution_count": 150,
   "metadata": {},
   "outputs": [
    {
     "data": {
      "text/plain": [
       "2019-01-14    136\n",
       "2019-01-11    120\n",
       "2019-01-18    117\n",
       "2019-01-12    117\n",
       "2019-01-22    108\n",
       "             ... \n",
       "2020-01-14     10\n",
       "2020-01-15     10\n",
       "2020-01-05      6\n",
       "2020-01-01      6\n",
       "2020-01-08      2\n",
       "Name: created_at, Length: 62, dtype: int64"
      ]
     },
     "execution_count": 150,
     "metadata": {},
     "output_type": "execute_result"
    }
   ],
   "source": [
    "train['created_at'].value_counts()"
   ]
  },
  {
   "cell_type": "code",
   "execution_count": 151,
   "metadata": {},
   "outputs": [
    {
     "data": {
      "text/plain": [
       "<matplotlib.axes._subplots.AxesSubplot at 0x1d02f04b688>"
      ]
     },
     "execution_count": 151,
     "metadata": {},
     "output_type": "execute_result"
    },
    {
     "data": {
      "image/png": "[encoded data removed]",
      "text/plain": [
       "<Figure size 432x288 with 1 Axes>"
      ]
     },
     "metadata": {
      "needs_background": "light"
     },
     "output_type": "display_data"
    }
   ],
   "source": [
    "sns.distplot(train['favorite_count'])"
   ]
  },
  {
   "cell_type": "code",
   "execution_count": 152,
   "metadata": {},
   "outputs": [
    {
     "data": {
      "text/plain": [
       "<matplotlib.axes._subplots.AxesSubplot at 0x1cf99e8f8c8>"
      ]
     },
     "execution_count": 152,
     "metadata": {},
     "output_type": "execute_result"
    },
    {
     "data": {
      "image/png": "[encoded data removed]",
      "text/plain": [
       "<Figure size 432x288 with 1 Axes>"
      ]
     },
     "metadata": {
      "needs_background": "light"
     },
     "output_type": "display_data"
    }
   ],
   "source": [
    "sns.distplot(train['retweet_count'])"
   ]
  },
  {
   "cell_type": "code",
   "execution_count": 153,
   "metadata": {},
   "outputs": [
    {
     "name": "stdout",
     "output_type": "stream",
     "text": [
      "   created_at                                               text\n",
      "0  2019-01-01  Congratulations to President \\r\\nJairBolsonaro...\n",
      "1  2019-01-02  Here we go with Mitt Romney but so fast Questi...\n",
      "2  2019-01-03  Sadly there can be no REAL Border Security wit...\n",
      "3  2019-01-04  How do you impeach a president who has won per...\n",
      "4  2019-01-05  The Democrats want Billions of Dollars for For...\n"
     ]
    }
   ],
   "source": [
    "train['importance']=(train['retweet_count']+train['favorite_count'])/2\n",
    "train.drop(['retweet_count','favorite_count','is_retweet'],axis=1,inplace=True)\n",
    "train['text']=train['text'].apply(lambda x: re.split('https:\\/\\/.*', str(x))[0]).str.replace('[{}]'.format(string.punctuation), '')\n",
    "train=train[train['text']!=\"\"]\n",
    "train=train.groupby(['created_at']).apply(lambda x: x.nlargest(1,['importance'])).reset_index(drop=True)\n",
    "train.drop(['importance'],axis=1,inplace=True)\n",
    "print(train.head())"
   ]
  },
  {
   "cell_type": "code",
   "execution_count": 158,
   "metadata": {},
   "outputs": [
    {
     "data": {
      "text/html": [
       "<div>\n",
       "<style scoped>\n",
       "    .dataframe tbody tr th:only-of-type {\n",
       "        vertical-align: middle;\n",
       "    }\n",
       "\n",
       "    .dataframe tbody tr th {\n",
       "        vertical-align: top;\n",
       "    }\n",
       "\n",
       "    .dataframe thead th {\n",
       "        text-align: right;\n",
       "    }\n",
       "</style>\n",
       "<table border=\"1\" class=\"dataframe\">\n",
       "  <thead>\n",
       "    <tr style=\"text-align: right;\">\n",
       "      <th></th>\n",
       "      <th>created_at</th>\n",
       "      <th>text</th>\n",
       "      <th>score</th>\n",
       "    </tr>\n",
       "  </thead>\n",
       "  <tbody>\n",
       "    <tr>\n",
       "      <th>0</th>\n",
       "      <td>2019-01-01</td>\n",
       "      <td>(congratulation, president, jairbolsonaro, gre...</td>\n",
       "      <td>3.277248</td>\n",
       "    </tr>\n",
       "    <tr>\n",
       "      <th>1</th>\n",
       "      <td>2019-01-02</td>\n",
       "      <td>(mitt, romney, fast, question, flake, hope, pr...</td>\n",
       "      <td>3.296245</td>\n",
       "    </tr>\n",
       "    <tr>\n",
       "      <th>2</th>\n",
       "      <td>2019-01-03</td>\n",
       "      <td>(sadly, real, border, security, wall)</td>\n",
       "      <td>4.059332</td>\n",
       "    </tr>\n",
       "    <tr>\n",
       "      <th>3</th>\n",
       "      <td>2019-01-04</td>\n",
       "      <td>(impeach, president, win, great, election, tim...</td>\n",
       "      <td>3.155623</td>\n",
       "    </tr>\n",
       "    <tr>\n",
       "      <th>4</th>\n",
       "      <td>2019-01-05</td>\n",
       "      <td>(democrat, want, billion, dollar, foreign, aid...</td>\n",
       "      <td>3.565881</td>\n",
       "    </tr>\n",
       "  </tbody>\n",
       "</table>\n",
       "</div>"
      ],
      "text/plain": [
       "   created_at                                               text     score\n",
       "0  2019-01-01  (congratulation, president, jairbolsonaro, gre...  3.277248\n",
       "1  2019-01-02  (mitt, romney, fast, question, flake, hope, pr...  3.296245\n",
       "2  2019-01-03              (sadly, real, border, security, wall)  4.059332\n",
       "3  2019-01-04  (impeach, president, win, great, election, tim...  3.155623\n",
       "4  2019-01-05  (democrat, want, billion, dollar, foreign, aid...  3.565881"
      ]
     },
     "execution_count": 158,
     "metadata": {},
     "output_type": "execute_result"
    }
   ],
   "source": [
    "nlp = spacy.load(\"en_core_web_lg\", disable=['parser', 'tagger', 'ner'])\n",
    "stops = spacy.lang.en.stop_words.STOP_WORDS\n",
    "def normalize(comment, lowercase, remove_stopwords):\n",
    "    if lowercase:\n",
    "        comment = comment.lower()\n",
    "    comment = nlp(comment)\n",
    "    lemmatized = list()\n",
    "    for word in comment:\n",
    "        lemma = word.lemma_.strip()\n",
    "        if lemma:\n",
    "            if not remove_stopwords or (remove_stopwords and lemma not in stops):\n",
    "                lemmatized.append(lemma)\n",
    "    return \" \".join(lemmatized)\n",
    "train['text']=train['text'].apply(normalize, lowercase=True, remove_stopwords=True)\n",
    "nlp = spacy.load('en_core_web_lg')\n",
    "cleaning= list(nlp.pipe(train['text'],n_threads=2))\n",
    "train['text']=pd.Series(cleaning)\n",
    "train['score']=pd.Series([doc.vector_norm for doc in cleaning])\n",
    "train.head()"
   ]
  },
  {
   "cell_type": "code",
   "execution_count": 159,
   "metadata": {},
   "outputs": [
    {
     "data": {
      "text/plain": [
       "<matplotlib.axes._subplots.AxesSubplot at 0x1cf9af333c8>"
      ]
     },
     "execution_count": 159,
     "metadata": {},
     "output_type": "execute_result"
    },
    {
     "data": {
      "image/png": "[encoded data removed]",
      "text/plain": [
       "<Figure size 432x288 with 1 Axes>"
      ]
     },
     "metadata": {
      "needs_background": "light"
     },
     "output_type": "display_data"
    }
   ],
   "source": [
    "sns.distplot(train['score'])"
   ]
  },
  {
   "cell_type": "code",
   "execution_count": null,
   "metadata": {},
   "outputs": [],
   "source": []
  }
 ],
 "metadata": {
  "kernelspec": {
   "display_name": "Python 3",
   "language": "python",
   "name": "python3"
  },
  "language_info": {
   "codemirror_mode": {
    "name": "ipython",
    "version": 3
   },
   "file_extension": ".py",
   "mimetype": "text/x-python",
   "name": "python",
   "nbconvert_exporter": "python",
   "pygments_lexer": "ipython3",
   "version": "3.7.6"
  }
 },
 "nbformat": 4,
 "nbformat_minor": 4
}
